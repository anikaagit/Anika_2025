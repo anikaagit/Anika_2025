{
 "cells": [
  {
   "cell_type": "markdown",
   "metadata": {},
   "source": [
    "---\n",
    "layout: post\n",
    "title: Javascript Booleans \n",
    "description: Popcorn hack 1\n",
    "categories: [JavaScript]\n",
    "comments: True\n",
    "---"
   ]
  },
  {
   "cell_type": "markdown",
   "metadata": {},
   "source": [
    "## Introduction\n",
    "Relational operators in JavaScript are used to compare two values, returning a Boolean value (true or false) based on the relationship. Relational operators are extremley similar to math functions such as less than or equal too."
   ]
  },
  {
   "cell_type": "markdown",
   "metadata": {},
   "source": [
    "## Relational Operators\n",
    "##### These codes determine the true or false\n",
    "- <p>== : Equal to, checks if two values are the same (e.g., verifying a password match).<p>\n",
    "- <p>!= : Not equal to, checks if two values are different (e.g., ensuring input changes).<p>\n",
    "- <p>=== : Strict equal to, checks equality and type (e.g., validating exact user ID).<p>\n",
    "- <p>!== : Strict not equal to, checks inequality and type (e.g., ensuring different type or value).<p>\n",
    "- <p>> : Greater than, left value is larger than the right (e.g., comparing scores or ages).<p>\n",
    "- <p>< : Less than, left value is smaller than the right (e.g., setting age limits).<p>\n",
    "- <p>>= : Greater than or equal to, left value is larger or equal (e.g., minimum age validation).<p>\n",
    "- <p><= : Less than or equal to, left value is smaller or equal (e.g., ensuring max quantity in cart).<p>"
   ]
  },
  {
   "cell_type": "markdown",
   "metadata": {},
   "source": [
    "## Example\n",
    "<p> this is the example of booleans. You can see how booleans works.<p>"
   ]
  },
  {
   "cell_type": "code",
   "execution_count": 18,
   "metadata": {},
   "outputs": [
    {
     "data": {
      "application/javascript": "\n//You can change this booleans. try out more!\nlet isLoggedIn = true;\nlet hasAdminAccess = false;\nlet amal = false;\nlet theGoodsAccess = false;\n\nif (amal) {\n  console.log(\"Amal detected. No gummies. Get out.\")\n}\nelse {\n  if (isLoggedIn) {\n    console.log(\"Welcome to the site!\");\n\n    // Check if the user has admin access\n    if (hasAdminAccess) {\n      console.log(\"You have admin access.\");\n      if (theGoodsAccess) {\n        console.log(\"why did u turned this on u freaky fuck\")\n      }\n      else {\n        console.log(\"'the_goods' folder is locked.\")\n      }\n    }\n    else {\n      console.log(\"You are logged in, but you don't have admin access.\");\n    }\n    }\n  else {\n    console.log(\"Please log in to access the site.\");\n  }\n}\n",
      "text/plain": [
       "<IPython.core.display.Javascript object>"
      ]
     },
     "metadata": {},
     "output_type": "display_data"
    }
   ],
   "source": [
    "%%js\n",
    "\n",
    "//You can change this booleans. try out more!\n",
    "let isLoggedIn = true;\n",
    "let hasAdminAccess = false;\n",
    "let amal = false;\n",
    "\n",
    "if (amal) {\n",
    "  console.log(\"Amal detected. No gummies. Get out.\")\n",
    "}\n",
    "else {\n",
    "  if (isLoggedIn) {\n",
    "    console.log(\"Welcome to the site!\");\n",
    "\n",
    "    // Check if the user has admin access\n",
    "    if (hasAdminAccess) {\n",
    "      console.log(\"You have admin access.\");\n",
    "    }\n",
    "    else {\n",
    "      console.log(\"You are logged in, but you don't have admin access.\");\n",
    "    }\n",
    "    }\n",
    "  else {\n",
    "    console.log(\"Please log in to access the site.\");\n",
    "  }\n",
    "}\n"
   ]
  },
  {
   "cell_type": "code",
   "execution_count": 2,
   "metadata": {
    "vscode": {
     "languageId": "javascript"
    }
   },
   "outputs": [
    {
     "data": {
      "application/javascript": "//popcorn hack 1\n// Check if today is Sunday\nlet today = new Date(); // Get the current date\nlet isSunday = today.getDay() === 0; // 0 represents Sunday in JavaScript\nconsole.log(\"Is it Sunday today?\", isSunday);\n\n// Homework completion status\nlet finishedHomework = true; // Change this to 'false' if homework is not finished\nconsole.log(\"Did I finish my homework?\", finishedHomework);\n",
      "text/plain": [
       "<IPython.core.display.Javascript object>"
      ]
     },
     "metadata": {},
     "output_type": "display_data"
    }
   ],
   "source": [
    "%%js\n",
    "//popcorn hack 1\n",
    "// Check if today is Sunday\n",
    "let today = new Date(); // Get the current date\n",
    "let isSunday = today.getDay() === 0; // 0 represents Sunday in JavaScript\n",
    "console.log(\"Is it Sunday today?\", isSunday);\n",
    "\n",
    "// Homework completion status\n",
    "let finishedHomework = true; // Change this to 'false' if homework is not finished\n",
    "console.log(\"Did I finish my homework?\", finishedHomework);\n"
   ]
  },
  {
   "cell_type": "code",
   "execution_count": null,
   "metadata": {
    "vscode": {
     "languageId": "javascript"
    }
   },
   "outputs": [],
   "source": [
    "%%js \n",
    "//popcorn hack 2\n",
    "// Step 1: Create a variable for GPA\n",
    "var gpa = 3.5;\n",
    "\n",
    "// Step 2: Create a variable for extracurricular participation\n",
    "var inExtracurriculars = true;\n",
    "\n",
    "// Step 3: Use Boolean Operators to determine scholarship eligibility\n",
    "var isEligibleForScholarship = (gpa >= 3.0) && inExtracurriculars;\n",
    "\n",
    "// Step 4: Log the result using an if statement\n",
    "if (isEligibleForScholarship) {\n",
    "    console.log(\"The student is eligible for the scholarship.\");\n",
    "} else {\n",
    "    console.log(\"The student is not eligible for the scholarship.\");\n",
    "}\n",
    "\n",
    "// Step 5: Run the code\n",
    "// Open your browser's console or use a coding platform to test this code.\n",
    "\n"
   ]
  }
 ],
 "metadata": {
  "kernelspec": {
   "display_name": "Python 3",
   "language": "python",
   "name": "python3"
  },
  "language_info": {
   "codemirror_mode": {
    "name": "ipython",
    "version": 3
   },
   "file_extension": ".py",
   "mimetype": "text/x-python",
   "name": "python",
   "nbconvert_exporter": "python",
   "pygments_lexer": "ipython3",
   "version": "3.10.12"
  }
 },
 "nbformat": 4,
 "nbformat_minor": 2
}
