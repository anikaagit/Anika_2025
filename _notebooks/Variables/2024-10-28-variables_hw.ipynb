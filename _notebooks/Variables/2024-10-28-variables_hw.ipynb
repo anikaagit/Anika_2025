{
 "cells": [
  {
   "cell_type": "markdown",
   "metadata": {},
   "source": [
    "# <span style=\"color: lavender; text-shadow: 2px 2px 5px lavender;\">Variables Homework (Show what you know!) </span>\n",
    "\n",
    "### Homework Problem: Understanding JavaScript Variables \n",
    "\n",
    "### <span style=\"color: pink; text-shadow: 2px 2px 5px pink;\"> Creating Variables</span>\n",
    "\n",
    "\n",
    "1. **Create three variables as an object variable**:\n",
    "   - A variable called `studentName` that stores your name as a string.\n",
    "   - A variable called `age` that stores your age as a number.\n",
    "   - A variable called `isStudent` that stores a boolean value indicating whether you are a student (use `true` or `false`).\n",
    "\n",
    "   2. **Create a function variable that displays that your favorite song is playing**:\n",
    "   \n",
    "      - A variable called `favoriteSong` that stores the name of your favorite song.\n",
    "      - A variable called `songArtist` that stores the song's artist.\n",
    "      - A function called `playFavoriteSong` that logs a message saying \"Now playing [favoriteSong] by [songArtist]\".\n",
    "\n",
    "\n",
    "\n",
    "3. **Using the variables you created**, write a sentence using `console.log()` to display:\n",
    "   - Your name.\n",
    "   - Your age.\n",
    "   - Whether you are a student.\n",
    "   - An output that states that your favorite song is now playing\n",
    "\n",
    "\n",
    "   Example output:\n",
    "My name is [Your Name], I am [Your Age] years old, and it is [true/false] that I am a student. \n",
    "Now playing Champion by Kanye West"
   ]
  },
  {
   "cell_type": "code",
   "execution_count": 4,
   "metadata": {
    "vscode": {
     "languageId": "javascript"
    }
   },
   "outputs": [
    {
     "data": {
      "application/javascript": "\n //This is an object variable\n let stats = \n    {studentName: \"Anika\", \n        studentAage: 14, \n        isStudent: true \n        }; //This is an object variable\n    console.log(stats); //This will print {name: \"Mario\", age: 35, height: 1.55, weight: 70}\n\n    //This is a function variable\n    function request(favoriteSong) {\n        return \"Now playing \" + favoriteSong + \" by \" + artistName;\n    }\n\nlet favoriteSong = \"Close To You\"; //This is a string variable\nlet artistName = \"Gracie Abrams\"; //This is a string variable\n\n    console.log(request(\"Close To You\")); //This will print \"Now playing Despacito by Luis Fonsi\"\n",
      "text/plain": [
       "<IPython.core.display.Javascript object>"
      ]
     },
     "metadata": {},
     "output_type": "display_data"
    }
   ],
   "source": [
    "%%js\n",
    "\n",
    " //This is an object variable\n",
    " let stats = \n",
    "    {studentName: \"Anika\", \n",
    "        studentAage: 14, \n",
    "        isStudent: true \n",
    "        }; //This is an object variable\n",
    "    console.log(stats); //This will print {name: \"Mario\", age: 35, height: 1.55, weight: 70}\n",
    "\n",
    "    //This is a function variable\n",
    "    function request(favoriteSong) {\n",
    "        return \"Now playing \" + favoriteSong + \" by \" + artistName;\n",
    "    }\n",
    "\n",
    "let favoriteSong = \"Close To You\"; //This is a string variable\n",
    "let artistName = \"Gracie Abrams\"; //This is a string variable\n",
    "\n",
    "    console.log(request(\"Close To You\")); //This will print \"Now playing Despacito by Luis Fonsi\""
   ]
  }
 ],
 "metadata": {
  "kernelspec": {
   "display_name": "Python 3",
   "language": "python",
   "name": "python3"
  },
  "language_info": {
   "codemirror_mode": {
    "name": "ipython",
    "version": 3
   },
   "file_extension": ".py",
   "mimetype": "text/x-python",
   "name": "python",
   "nbconvert_exporter": "python",
   "pygments_lexer": "ipython3",
   "version": "3.10.12"
  }
 },
 "nbformat": 4,
 "nbformat_minor": 2
}
