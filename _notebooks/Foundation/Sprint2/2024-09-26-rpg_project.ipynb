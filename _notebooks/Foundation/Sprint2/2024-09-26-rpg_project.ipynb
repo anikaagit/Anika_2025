{
 "cells": [
  {
   "cell_type": "raw",
   "metadata": {
    "vscode": {
     "languageId": "raw"
    }
   },
   "source": [
    "---\n",
    "layout: post\n",
    "title: RPG Project Blog\n",
    "description: RPG Project Blog Description\n",
    "categories: [Collaboration]\n",
    "menu: nav/rpg_blog.html\n",
    "permalink: /rpg/blog\n",
    "type: collab\n",
    "comments: true\n",
    "sticky_rank: 1\n",
    "---"
   ]
  },
  {
   "cell_type": "markdown",
   "metadata": {},
   "source": [
    "## Project Setup Review\n",
    "\n",
    "***To create a new project in VScode, follow these steps:***\n",
    "\n",
    "- Open a terminal supported by WSL\n",
    "- Perform tools version checks for Python, Jupyter, Ruby, and Bundle \n",
    "\n",
    "![image](https://github.com/user-attachments/assets/56141704-de6f-49c2-9e94-e33a72d216b3)\n",
    "\n",
    "- Use the \"mkdir\" command to make a directory for your project\n",
    "- Change to that directory \"cd\"\n",
    "- Run a \"git clone\" of the github repository you want to appear in your directory  \n",
    "- Run an \"ls\" list command to make sure all those files are now in your directory \n",
    "\n",
    "![image](https://github.com/user-attachments/assets/b25e2395-6630-4459-993a-6488cb7b241c)\n",
    "\n",
    "- Run a source venv/bin/activate to activate the virtual environment for your project\n",
    "- Run \"code .\" to open in VScode "
   ]
  },
  {
   "cell_type": "markdown",
   "metadata": {},
   "source": [
    "## Integration Issue Link\n",
    "\n",
    "Below is a link to my **Integration** issue, where I describe my key commits and the progress I am making in developing my RPG Game!\n",
    "\n",
    "*[Integration Issue](https://github.com/anikaagit/Anika_2025/issues/9)*.\n"
   ]
  },
  {
   "cell_type": "markdown",
   "metadata": {},
   "source": [
    "## Key Files\n",
    "\n",
    "The five key files used/referenced in this RPG Project are:\n",
    "\n",
    "- Rpg.md\n",
    "- Gamecontrol.js\n",
    "- Gameenv.js\n",
    "- Background.js\n",
    "- Player.js\n",
    "\n",
    "- **Rpg.md** starts the game. It also defines key game assets (JSON Objects) such as background and sprite.\n",
    "\n",
    "- **Gamecontrol.js** manages the key events of the game. It's object literal pattern helps centralize the game's control logic and various game states. \n",
    "\n",
    "- **Gameenv.js** defines the canvas properties for the game.It calculates the canvas dimensions as well as the top and bottom offsets from the screen. \n",
    "\n",
    "- **Background.js** manages the background of the game. It handles drawing the background image and scaling it to the correct size \n",
    "\n",
    "- **Player.js** handles the data and events for the player object. It manages the state, behavior, rendering, and key events of the player \n"
   ]
  },
  {
   "cell_type": "markdown",
   "metadata": {},
   "source": [
    "## Class Definition\n",
    "\n",
    "Key components of the Player.js class include:\n",
    "\n",
    "- Methods\n",
    "- Constructor\n",
    "- Attributes\n",
    "- Dependencies\n",
    "- Exports \n",
    "\n",
    "![image](https://github.com/user-attachments/assets/0de2c6bf-e00c-42db-8d62-cfcac2281e11)\n",
    "\n",
    "*A method* is a function that defines the behavior of an object. In this example, it manages behavior from rendering on the screen to responding to player input. \n",
    "\n",
    "![image](https://github.com/user-attachments/assets/bdd9c3fc-24f8-40b8-b90a-2a29bd0420a6)\n",
    "\n",
    "*A constructor* intializes an object and sets up important attributes such as width and height. In this case, the object is the player's scale. \n",
    "\n",
    "![image](https://github.com/user-attachments/assets/4d960294-8207-4ec3-b6c0-78239918faf5)\n",
    "\n",
    "*A dependency* is an external module containing classes that the object relies on. In this case, the module \"game environment\" is relevant to the player class and the objects in it. \n",
    "\n",
    "![image](https://github.com/user-attachments/assets/750455d1-77cf-47ea-a8ce-2370abc8e9cd)\n",
    "\n",
    "*Exports* make your class available for use in other modules. In this case, the \"Player\" class is being exported. \n",
    "\n"
   ]
  }
 ],
 "metadata": {
  "kernelspec": {
   "display_name": "Python 3",
   "language": "python",
   "name": "python3"
  },
  "language_info": {
   "codemirror_mode": {
    "name": "ipython",
    "version": 3
   },
   "file_extension": ".py",
   "mimetype": "text/x-python",
   "name": "python",
   "nbconvert_exporter": "python",
   "pygments_lexer": "ipython3",
   "version": "3.11.9"
  },
  "orig_nbformat": 4
 },
 "nbformat": 4,
 "nbformat_minor": 2
}
