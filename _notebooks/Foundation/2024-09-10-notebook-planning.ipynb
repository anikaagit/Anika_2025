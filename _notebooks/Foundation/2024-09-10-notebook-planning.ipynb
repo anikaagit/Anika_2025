{
 "cells": [
  {
   "cell_type": "markdown",
   "metadata": {},
   "source": [
    "---\n",
    "layout: post\n",
    "title: Notebook Planning\n",
    "description:  Tools and Software Development for Sprint 1\n",
    "type: issues\n",
    "permalink: /_notebooks/Foundation/planning\n",
    "comments: true\n",
    "---\n"
   ]
  },
  {
   "cell_type": "markdown",
   "metadata": {},
   "source": [
    "## Planning Doc"
   ]
  }
 ],
 "metadata": {
  "language_info": {
   "name": "python"
  }
 },
 "nbformat": 4,
 "nbformat_minor": 2
}
