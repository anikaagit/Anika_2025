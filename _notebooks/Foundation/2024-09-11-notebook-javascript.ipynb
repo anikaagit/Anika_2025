{
 "cells": [
  {
   "cell_type": "markdown",
   "metadata": {},
   "source": [
    "---\n",
    "layout: post\n",
    "title: Notebook javascript\n",
    "description:  Github pages hacks - javascript notebook for Sprint 1\n",
    "type: issues\n",
    "permalink: /_notebooks/Foundation/javascript\n",
    "comments: true\n",
    "---"
   ]
  },
  {
   "cell_type": "code",
   "execution_count": null,
   "metadata": {
    "vscode": {
     "languageId": "javascript"
    }
   },
   "outputs": [],
   "source": [
    "%%javascript\n",
    "\n",
    "var compsci_joke_list = [\n",
    "    { joke: \"Why do programmers prefer dark mode? Because light attracts bugs.\", complexity: \"O(1)\" },\n",
    "    { joke: \"Why do Java developers wear glasses? Because they don't see sharp.\", complexity: \"O(1)\" },\n",
    "    { joke: \"How many programmers does it take to change a light bulb? None, that's a hardware problem.\", complexity: \"O(1)\" },\n",
    "    { joke: \"Why do programmers hate nature? It has too many bugs.\", complexity: \"O(n)\" },\n",
    "    { joke: \"Why do Python programmers prefer snake_case? Because they can't C.\", complexity: \"O(1)\" },\n",
    "    { joke: \"Why was the JavaScript developer sad? Because he didn't know how to 'null' his feelings.\", complexity: \"O(1)\" },\n",
    "    { joke: \"Why do programmers always mix up Christmas and Halloween? Because Oct 31 == Dec 25.\", complexity: \"O(1)\" },\n",
    "    { joke: \"Why did the programmer quit his job? Because he didn't get arrays.\", complexity: \"O(n)\" },\n",
    "    { joke: \"Why do programmers prefer using the terminal? Because they don't like Windows.\", complexity: \"O(1)\" },\n",
    "    { joke: \"Why was the function sad after a breakup? It couldn't find its closure.\", complexity: \"O(1)\" }\n",
    "];\n",
    "var randomIndex = Math.floor(Math.random() * compsci_joke_list.length);\n",
    "var selectedJoke = compsci_joke_list[randomIndex];\n",
    "console.log(\"Joke #\" + (randomIndex + 1) + \": \" + selectedJoke.joke + \" (Complexity: \" + selectedJoke.complexity + \")\");"
   ]
  }
 ],
 "metadata": {
  "language_info": {
   "name": "python"
  }
 },
 "nbformat": 4,
 "nbformat_minor": 2
}
