{
 "cells": [
  {
   "cell_type": "raw",
   "metadata": {
    "vscode": {
     "languageId": "raw"
    }
   },
   "source": [
    "---\n",
    "comments: True\n",
    "layout: post\n",
    "title: conditionals lesson hacks\n",
    "description: conditionals hacks\n",
    "permalink: /csse/javascript/fundamentals/conditionals/hacks\n",
    "type: ccc\n",
    "---"
   ]
  },
  {
   "cell_type": "markdown",
   "metadata": {},
   "source": [
    "# Popcorn Hack 1: Create a Simple Combat System for Your RPG Game"
   ]
  },
  {
   "cell_type": "markdown",
   "metadata": {},
   "source": [
    "Develop a basic combat system that allows characters to engage in battles with enemies. This will help you practice using functions, conditionals, and basic game mechanics in JavaScript."
   ]
  },
  {
   "cell_type": "markdown",
   "metadata": {},
   "source": [
    "## Popcorn Hack Part 1 - 1\n",
    "\n",
    "Using function `intializeData`\n",
    "\n",
    "1. Add `speed` to the `function intializeData(data = null)`  and give it a default value.\n",
    "2. Add `seed` to the HTML output.\n",
    "3. Add `speed` to JSON data.\n",
    "4. Try make call to `initializeData` with `no argument` and using `data` JSON object as argument when call "
   ]
  },
  {
   "cell_type": "code",
   "execution_count": null,
   "metadata": {
    "vscode": {
     "languageId": "javascript"
    }
   },
   "outputs": [
    {
     "data": {
      "application/javascript": "// Define the initializeData function\nfunction initializeData(data = null, speed = 10) {\n    // If data is null, create a default JSON object with seed and speed\n    if (data === null) {\n        data = {\n            seed: Math.floor(Math.random() * 100), // Random seed\n            speed: speed\n        };\n    } else {\n        // If data is provided, add speed to it (if it doesn't exist)\n        if (!data.hasOwnProperty('speed')) {\n            data.speed = speed;\n        }\n    }\n\n    // Output the seed and speed to HTML (for example, an element with id 'output')\n    const outputElement = document.getElementById(\"output\");\n    if (outputElement) {\n        outputElement.innerHTML = `Seed: ${data.seed}, Speed: ${data.speed}`;\n    }\n\n    // Log JSON data with seed and speed included\n    console.log(JSON.stringify(data));\n}\n\n// HTML element for output\ndocument.body.innerHTML = '<div id=\"output\"></div>';\n\n// Call initializeData with no arguments\ninitializeData();\n\n// Call initializeData with a data JSON object\nconst dataObj = { seed: 42 }; // Example JSON object with seed\ninitializeData(dataObj);\n\n    \n",
      "text/plain": [
       "<IPython.core.display.Javascript object>"
      ]
     },
     "metadata": {},
     "output_type": "display_data"
    }
   ],
   "source": [
    "%%js \n",
    "//Hack 1-1\n",
    "// Define the initializeData function\n",
    "function initializeData(data = null, speed = 10) {\n",
    "    // If data is null, create a default JSON object with seed and speed\n",
    "    if (data === null) {\n",
    "        data = {\n",
    "            seed: Math.floor(Math.random() * 100), // Random seed\n",
    "            speed: speed\n",
    "        };\n",
    "    } else {\n",
    "        // If data is provided, add speed to it (if it doesn't exist)\n",
    "        if (!data.hasOwnProperty('speed')) {\n",
    "            data.speed = speed;\n",
    "        }\n",
    "    }\n",
    "\n",
    "    // Output the seed and speed to HTML (for example, an element with id 'output')\n",
    "    const outputElement = document.getElementById(\"output\");\n",
    "    if (outputElement) {\n",
    "        outputElement.innerHTML = `Seed: ${data.seed}, Speed: ${data.speed}`;\n",
    "    }\n",
    "\n",
    "    // Log JSON data with seed and speed included\n",
    "    console.log(JSON.stringify(data));\n",
    "}\n",
    "\n",
    "// HTML element for output\n",
    "document.body.innerHTML = '<div id=\"output\"></div>';\n",
    "\n",
    "// Call initializeData with no arguments\n",
    "initializeData();\n",
    "\n",
    "// Call initializeData with a data JSON object\n",
    "const dataObj = { seed: 42 }; // Example JSON object with seed\n",
    "initializeData(dataObj);\n",
    "\n",
    "    "
   ]
  },
  {
   "cell_type": "code",
   "execution_count": 2,
   "metadata": {
    "vscode": {
     "languageId": "javascript"
    }
   },
   "outputs": [
    {
     "data": {
      "application/javascript": "//hack 1-2\n\n// Define a game object with a handleKeyDown method\nconst gameObject = {\n    handleKeyDown: function(keyCode) {\n        console.log(`Handling key with keyCode: ${keyCode}`);\n        // You can add additional behavior here based on the keyCode if needed\n    }\n};\n\n// Define the handleKeyDown function to listen for key presses\nfunction handleKeyDown(event) {\n    const { keyCode } = event;\n\n    // Use a switch statement for IJKL keys\n    switch (keyCode) {\n        case 73: // 'I' key\n            gameObject.handleKeyDown(keyCode);\n            break;\n        case 74: // 'J' key\n            gameObject.handleKeyDown(keyCode);\n            break;\n        case 75: // 'K' key\n            gameObject.handleKeyDown(keyCode);\n            break;\n        case 76: // 'L' key\n            gameObject.handleKeyDown(keyCode);\n            break;\n        default:\n            console.log(\"Unhandled key code:\", keyCode);\n            break;\n    }\n\n    // Output gameObject to the console\n    console.log(gameObject);\n}\n\n// Add an event listener for keydown events\ndocument.addEventListener(\"keydown\", handleKeyDown);\n",
      "text/plain": [
       "<IPython.core.display.Javascript object>"
      ]
     },
     "metadata": {},
     "output_type": "display_data"
    }
   ],
   "source": [
    "%%js \n",
    "//hack 1-2\n",
    "\n",
    "// Define a game object with a handleKeyDown method\n",
    "const gameObject = {\n",
    "    handleKeyDown: function(keyCode) {\n",
    "        console.log(`Handling key with keyCode: ${keyCode}`);\n",
    "        // You can add additional behavior here based on the keyCode if needed\n",
    "    }\n",
    "};\n",
    "\n",
    "// Define the handleKeyDown function to listen for key presses\n",
    "function handleKeyDown(event) {\n",
    "    const { keyCode } = event;\n",
    "\n",
    "    // Use a switch statement for IJKL keys\n",
    "    switch (keyCode) {\n",
    "        case 73: // 'I' key\n",
    "            gameObject.handleKeyDown(keyCode);\n",
    "            break;\n",
    "        case 74: // 'J' key\n",
    "            gameObject.handleKeyDown(keyCode);\n",
    "            break;\n",
    "        case 75: // 'K' key\n",
    "            gameObject.handleKeyDown(keyCode);\n",
    "            break;\n",
    "        case 76: // 'L' key\n",
    "            gameObject.handleKeyDown(keyCode);\n",
    "            break;\n",
    "        default:\n",
    "            console.log(\"Unhandled key code:\", keyCode);\n",
    "            break;\n",
    "    }\n",
    "\n",
    "    // Output gameObject to the console\n",
    "    console.log(gameObject);\n",
    "}\n",
    "\n",
    "// Add an event listener for keydown events\n",
    "document.addEventListener(\"keydown\", handleKeyDown);\n"
   ]
  },
  {
   "cell_type": "code",
   "execution_count": 3,
   "metadata": {
    "vscode": {
     "languageId": "javascript"
    }
   },
   "outputs": [
    {
     "data": {
      "application/javascript": "//popcorn hack 2\n// Initialize a boolean variable named canAttack and set it to false\nlet canAttack = false;\n\n// Use Math.random() to determine if the player is allowed to attack\n// (Assuming a 50% chance to set canAttack to true)\nif (Math.random() > 0.5) {\n    canAttack = true;\n}\n\n// Check if the player can attack\nif (canAttack) {\n    console.log(\"Player can attack!\");\n} else {\n    console.log(\"Can't attack.\");\n}\n\n// Output the value of canAttack for debugging\nconsole.log(\"canAttack status:\", canAttack);\n",
      "text/plain": [
       "<IPython.core.display.Javascript object>"
      ]
     },
     "metadata": {},
     "output_type": "display_data"
    }
   ],
   "source": [
    "%%js \n",
    "//popcorn hack 2\n",
    "// Initialize a boolean variable named canAttack and set it to false\n",
    "let canAttack = false;\n",
    "\n",
    "// Use Math.random() to determine if the player is allowed to attack\n",
    "// (Assuming a 50% chance to set canAttack to true)\n",
    "if (Math.random() > 0.5) {\n",
    "    canAttack = true;\n",
    "}\n",
    "\n",
    "// Check if the player can attack\n",
    "if (canAttack) {\n",
    "    console.log(\"Player can attack!\");\n",
    "} else {\n",
    "    console.log(\"Can't attack.\");\n",
    "}\n",
    "\n",
    "// Output the value of canAttack for debugging\n",
    "console.log(\"canAttack status:\", canAttack);\n"
   ]
  },
  {
   "cell_type": "code",
   "execution_count": 4,
   "metadata": {
    "vscode": {
     "languageId": "javascript"
    }
   },
   "outputs": [
    {
     "data": {
      "application/javascript": "//popcorn hack 3\n// Define the required level and the player's current level\nconst requiredLevel = 10;\nconst playerLevel = 8; // Example player level, adjust as needed\n\n// Use the ternary operator to check if the player meets the level requirements\nconst message = (playerLevel >= requiredLevel) \n    ? \"Player meets the level requirements.\" \n    : \"Player is under-leveled.\";\n\n// Print the output\nconsole.log(message);\n",
      "text/plain": [
       "<IPython.core.display.Javascript object>"
      ]
     },
     "metadata": {},
     "output_type": "display_data"
    }
   ],
   "source": [
    "%%js \n",
    "//popcorn hack 3\n",
    "// Define the required level and the player's current level\n",
    "const requiredLevel = 10;\n",
    "const playerLevel = 8; // Example player level, adjust as needed\n",
    "\n",
    "// Use the ternary operator to check if the player meets the level requirements\n",
    "const message = (playerLevel >= requiredLevel) \n",
    "    ? \"Player meets the level requirements.\" \n",
    "    : \"Player is under-leveled.\";\n",
    "\n",
    "// Print the output\n",
    "console.log(message);\n"
   ]
  },
  {
   "cell_type": "code",
   "execution_count": 5,
   "metadata": {
    "vscode": {
     "languageId": "javascript"
    }
   },
   "outputs": [
    {
     "data": {
      "application/javascript": "//homework\n// Character setup\nconst player = {\n    name: \"Hero\",\n    health: 100,\n    attackPower: 20\n};\n\nconst enemy = {\n    name: \"Goblin\",\n    health: 50,\n    attackPower: 10\n};\n\n// Function to handle an attack\nfunction attack(attacker, defender) {\n    console.log(`${attacker.name} attacks ${defender.name}!`);\n    defender.health -= attacker.attackPower;\n    console.log(`${defender.name}'s health is now ${defender.health}`);\n    \n    // Check if the defender is defeated\n    if (defender.health <= 0) {\n        console.log(`${defender.name} has been defeated!`);\n        return true; // Defender is defeated\n    }\n    return false; // Defender is still alive\n}\n\n// Function to simulate a battle turn\nfunction battleTurn() {\n    console.log(\"Battle starts!\");\n\n    // Loop until either the player or enemy is defeated\n    while (player.health > 0 && enemy.health > 0) {\n        // Player attacks first\n        if (attack(player, enemy)) {\n            console.log(\"Player wins the battle!\");\n            break;\n        }\n\n        // Enemy attacks if still alive\n        if (attack(enemy, player)) {\n            console.log(\"Enemy wins the battle!\");\n            break;\n        }\n    }\n}\n\n// Start the battle\nbattleTurn();\n",
      "text/plain": [
       "<IPython.core.display.Javascript object>"
      ]
     },
     "metadata": {},
     "output_type": "display_data"
    }
   ],
   "source": [
    "%%js \n",
    "//homework\n",
    "// Character setup\n",
    "const player = {\n",
    "    name: \"Hero\",\n",
    "    health: 100,\n",
    "    attackPower: 20\n",
    "};\n",
    "\n",
    "const enemy = {\n",
    "    name: \"Goblin\",\n",
    "    health: 50,\n",
    "    attackPower: 10\n",
    "};\n",
    "\n",
    "// Function to handle an attack\n",
    "function attack(attacker, defender) {\n",
    "    console.log(`${attacker.name} attacks ${defender.name}!`);\n",
    "    defender.health -= attacker.attackPower;\n",
    "    console.log(`${defender.name}'s health is now ${defender.health}`);\n",
    "    \n",
    "    // Check if the defender is defeated\n",
    "    if (defender.health <= 0) {\n",
    "        console.log(`${defender.name} has been defeated!`);\n",
    "        return true; // Defender is defeated\n",
    "    }\n",
    "    return false; // Defender is still alive\n",
    "}\n",
    "\n",
    "// Function to simulate a battle turn\n",
    "function battleTurn() {\n",
    "    console.log(\"Battle starts!\");\n",
    "\n",
    "    // Loop until either the player or enemy is defeated\n",
    "    while (player.health > 0 && enemy.health > 0) {\n",
    "        // Player attacks first\n",
    "        if (attack(player, enemy)) {\n",
    "            console.log(\"Player wins the battle!\");\n",
    "            break;\n",
    "        }\n",
    "\n",
    "        // Enemy attacks if still alive\n",
    "        if (attack(enemy, player)) {\n",
    "            console.log(\"Enemy wins the battle!\");\n",
    "            break;\n",
    "        }\n",
    "    }\n",
    "}\n",
    "\n",
    "// Start the battle\n",
    "battleTurn();\n"
   ]
  },
  {
   "cell_type": "markdown",
   "metadata": {},
   "source": [
    "## Popcorn Hack Part 1 - 2\n",
    "\n",
    "On `handleKeyDown({ keyCode }` switch statement can you add conditions for IJKL keys.\n",
    "\n",
    "1. Add a `case` statement for each of the IJKL keys\n",
    "2. Send key code for IJKL keys to method `gameObject.handleKeyDown` \n",
    "3. Output `gameObject` using console.log"
   ]
  },
  {
   "cell_type": "markdown",
   "metadata": {},
   "source": [
    "# Hack 3"
   ]
  },
  {
   "cell_type": "markdown",
   "metadata": {},
   "source": [
    "Use the ternary operator make an output apear if you meet the level requerments otherwise output a message that telss the player that they are under leveled"
   ]
  }
 ],
 "metadata": {
  "kernelspec": {
   "display_name": "Python 3",
   "language": "python",
   "name": "python3"
  },
  "language_info": {
   "codemirror_mode": {
    "name": "ipython",
    "version": 3
   },
   "file_extension": ".py",
   "mimetype": "text/x-python",
   "name": "python",
   "nbconvert_exporter": "python",
   "pygments_lexer": "ipython3",
   "version": "3.10.12"
  }
 },
 "nbformat": 4,
 "nbformat_minor": 2
}
