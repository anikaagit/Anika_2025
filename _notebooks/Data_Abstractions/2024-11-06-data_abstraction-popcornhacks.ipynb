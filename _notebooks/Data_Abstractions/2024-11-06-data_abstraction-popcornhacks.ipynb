{
 "cells": [
  {
   "cell_type": "raw",
   "metadata": {
    "vscode": {
     "languageId": "raw"
    }
   },
   "source": [
    "---\n",
    "comments: True\n",
    "layout: post\n",
    "title: Data Abstraction Hacks\n",
    "description: An intro to data abstraction\n",
    "permalink: /csse/javascript/fundamentals/data-abstraction-hacks\n",
    "type: ccc\n",
    "---"
   ]
  },
  {
   "cell_type": "markdown",
   "metadata": {},
   "source": [
    "# Popcorn Hack #1\n",
    "Create a child class of the class **Appliance**, and call it's returnName() function"
   ]
  },
  {
   "cell_type": "code",
   "execution_count": 2,
   "metadata": {
    "vscode": {
     "languageId": "javascript"
    }
   },
   "outputs": [
    {
     "data": {
      "application/javascript": "    class Appliance {\n        constructor(name) {\n            this.name = name;\n        }\n        returnName() {\n            return \"I am a \" + this.constructor.name + \" and my model is \" + this.name;\n        }\n    }\n    // Below this name the class and cause it to inherit from the Appliance class\n    class Microwave extends Appliance {\n        constructor(name, wattage) {\n            super(name); // Call the parent constructor with the 'name' parameter\n            this.wattage = wattage; // Additional property for Microwave class\n        }\n    \n        // Optionally, you could add specific methods or override methods here\n    }\n    \n    // Create an instance of the Microwave class and call returnName\n    const myMicrowave = new Microwave(\"Panasonic NN-SN966S\", 1250);\n    console.log(myMicrowave.returnName());\n",
      "text/plain": [
       "<IPython.core.display.Javascript object>"
      ]
     },
     "metadata": {},
     "output_type": "display_data"
    }
   ],
   "source": [
    "%%js \n",
    "    class Appliance {\n",
    "        constructor(name) {\n",
    "            this.name = name;\n",
    "        }\n",
    "        returnName() {\n",
    "            return \"I am a \" + this.constructor.name + \" and my model is \" + this.name;\n",
    "        }\n",
    "    }\n",
    "    // Below this name the class and cause it to inherit from the Appliance class\n",
    "    class Microwave extends Appliance {\n",
    "        constructor(name, wattage) {\n",
    "            super(name); // Call the parent constructor with the 'name' parameter\n",
    "            this.wattage = wattage; // Additional property for Microwave class\n",
    "        }\n",
    "    \n",
    "        // Optionally, you could add specific methods or override methods here\n",
    "    }\n",
    "    \n",
    "    // Create an instance of the Microwave class and call returnName\n",
    "    const myMicrowave = new Microwave(\"Panasonic NN-SN966S\", 1250);\n",
    "    console.log(myMicrowave.returnName());"
   ]
  },
  {
   "cell_type": "markdown",
   "metadata": {},
   "source": [
    "### Popcorn Hack #2\n",
    "Create child classes of the product class with items, and add parameters depending on what it is. An example is provided of a bagel."
   ]
  },
  {
   "cell_type": "code",
   "execution_count": 1,
   "metadata": {
    "vscode": {
     "languageId": "javascript"
    }
   },
   "outputs": [
    {
     "data": {
      "application/javascript": "    class Product{\n        constructor(price,size,taxRate) {\n            this.price = price;\n            this.size = size;\n            this.taxRate = taxRate;\n        }   \n        getPrice() {\n            return this.price + this.taxRate * this.price;\n        }\n        product(){\n            const className = this.constructor.name.toLowerCase();\n            // Does not use and assuming that more parameteres will be added\n            return \"You are ordering a \" + className + \" with a price of \" + this.getPrice() + \" dollars, a size of \" + this.size;\n        }\n    }\n    class Bagel extends Product{\n        constructor(price, size, taxRate, flavor) {\n            super(price, size, taxRate);\n            this.flavor = flavor;\n        }\n        getPrice(){\n            return super.getPrice() * this.size;\n        }\n        product(){\n            return super.product() + \" and a flavor of \" + this.flavor;\n        }\n    }\n    // Laptop subclass\nclass Laptop extends Product {\n    constructor(price, size, taxRate, brand, processor, storage) {\n        super(price, size, taxRate);\n        this.brand = brand;\n        this.processor = processor;\n        this.storage = storage;\n    }\n    product() {\n        return super.product() + `, a brand of ${this.brand}, a processor type of ${this.processor}, and ${this.storage}GB of storage.`;\n    }\n}\n\n// TShirt subclass\nclass TShirt extends Product {\n    constructor(price, size, taxRate, color, material) {\n        super(price, size, taxRate);\n        this.color = color;\n        this.material = material;\n    }\n    product() {\n        return super.product() + `, a color of ${this.color}, and made of ${this.material}.`;\n    }\n}\n     \nvar sesameBagel = new Bagel(1.5, 2, 0.07, \"sesame\");\nconsole.log(sesameBagel.product());\nconst laptop = new Laptop(1200, 'medium', 0.2, 'Dell', 'Intel i7', 512);\nconsole.log(laptop.product());\n\nconst tshirt = new TShirt(25, 'L', 0.07, 'red', 'cotton');\nconsole.log(tshirt.product());\n",
      "text/plain": [
       "<IPython.core.display.Javascript object>"
      ]
     },
     "metadata": {},
     "output_type": "display_data"
    }
   ],
   "source": [
    "%%js\n",
    "    class Product{\n",
    "        constructor(price,size,taxRate) {\n",
    "            this.price = price;\n",
    "            this.size = size;\n",
    "            this.taxRate = taxRate;\n",
    "        }   \n",
    "        getPrice() {\n",
    "            return this.price + this.taxRate * this.price;\n",
    "        }\n",
    "        product(){\n",
    "            const className = this.constructor.name.toLowerCase();\n",
    "            // Does not use and assuming that more parameteres will be added\n",
    "            return \"You are ordering a \" + className + \" with a price of \" + this.getPrice() + \" dollars, a size of \" + this.size;\n",
    "        }\n",
    "    }\n",
    "    class Bagel extends Product{\n",
    "        constructor(price, size, taxRate, flavor) {\n",
    "            super(price, size, taxRate);\n",
    "            this.flavor = flavor;\n",
    "        }\n",
    "        getPrice(){\n",
    "            return super.getPrice() * this.size;\n",
    "        }\n",
    "        product(){\n",
    "            return super.product() + \" and a flavor of \" + this.flavor;\n",
    "        }\n",
    "    }\n",
    "    // Laptop subclass\n",
    "class Laptop extends Product {\n",
    "    constructor(price, size, taxRate, brand, processor, storage) {\n",
    "        super(price, size, taxRate);\n",
    "        this.brand = brand;\n",
    "        this.processor = processor;\n",
    "        this.storage = storage;\n",
    "    }\n",
    "    product() {\n",
    "        return super.product() + `, a brand of ${this.brand}, a processor type of ${this.processor}, and ${this.storage}GB of storage.`;\n",
    "    }\n",
    "}\n",
    "\n",
    "// TShirt subclass\n",
    "class TShirt extends Product {\n",
    "    constructor(price, size, taxRate, color, material) {\n",
    "        super(price, size, taxRate);\n",
    "        this.color = color;\n",
    "        this.material = material;\n",
    "    }\n",
    "    product() {\n",
    "        return super.product() + `, a color of ${this.color}, and made of ${this.material}.`;\n",
    "    }\n",
    "}\n",
    "     \n",
    "var sesameBagel = new Bagel(1.5, 2, 0.07, \"sesame\");\n",
    "console.log(sesameBagel.product());\n",
    "const laptop = new Laptop(1200, 'medium', 0.2, 'Dell', 'Intel i7', 512);\n",
    "console.log(laptop.product());\n",
    "\n",
    "const tshirt = new TShirt(25, 'L', 0.07, 'red', 'cotton');\n",
    "console.log(tshirt.product());"
   ]
  }
 ],
 "metadata": {
  "kernelspec": {
   "display_name": "Python 3",
   "language": "python",
   "name": "python3"
  },
  "language_info": {
   "codemirror_mode": {
    "name": "ipython",
    "version": 3
   },
   "file_extension": ".py",
   "mimetype": "text/x-python",
   "name": "python",
   "nbconvert_exporter": "python",
   "pygments_lexer": "ipython3",
   "version": "3.10.12"
  }
 },
 "nbformat": 4,
 "nbformat_minor": 2
}
