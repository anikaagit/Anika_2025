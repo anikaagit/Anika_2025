{
 "cells": [
  {
   "cell_type": "markdown",
   "metadata": {},
   "source": [
    "# What is for loops"
   ]
  },
  {
   "cell_type": "code",
   "execution_count": null,
   "metadata": {
    "vscode": {
     "languageId": "javascript"
    }
   },
   "outputs": [],
   "source": [
    "\n",
    "\n"
   ]
  },
  {
   "cell_type": "markdown",
   "metadata": {},
   "source": [
    "A for loop is a control flow statement that allows you to execute a block of code a certain number of times. It's particularly useful when you know in advance how many times you want to iterate through a block of code."
   ]
  },
  {
   "cell_type": "markdown",
   "metadata": {},
   "source": [
    "## Syntax of a for Loop\n",
    "The syntax of a for loop consists of three main parts:"
   ]
  },
  {
   "cell_type": "code",
   "execution_count": 1,
   "metadata": {
    "vscode": {
     "languageId": "javascript"
    }
   },
   "outputs": [
    {
     "data": {
      "application/javascript": "for (initialization; condition; increment) {\n    // Code to be executed on each iteration\n}\n",
      "text/plain": [
       "<IPython.core.display.Javascript object>"
      ]
     },
     "metadata": {},
     "output_type": "display_data"
    }
   ],
   "source": [
    "%%js \n",
    "for (initialization; condition; increment) {\n",
    "    // Code to be executed on each iteration\n",
    "}\n"
   ]
  },
  {
   "cell_type": "markdown",
   "metadata": {},
   "source": [
    "Initialization: This sets up a counter variable and runs once at the beginning of the loop.\n",
    "\n",
    "Condition: Before each iteration, the loop checks this condition. If it's true, the loop continues; if false, the loop ends.\n",
    "\n",
    "Increment: This updates the counter variable after each iteration."
   ]
  },
  {
   "cell_type": "markdown",
   "metadata": {},
   "source": [
    "### Example of a for Loop"
   ]
  },
  {
   "cell_type": "code",
   "execution_count": null,
   "metadata": {
    "vscode": {
     "languageId": "javascript"
    }
   },
   "outputs": [],
   "source": [
    "%%js \n",
    "for (let i = 1; i <= 5; i++) {\n",
    "    console.log(i);\n",
    "}\n"
   ]
  },
  {
   "cell_type": "markdown",
   "metadata": {},
   "source": [
    "Explanation:\n",
    "\n",
    "Initialization: let i = 1 sets the counter variable i to 1.\n",
    "\n",
    "Condition: i <= 5 checks if i is less than or equal to 5.\n",
    "\n",
    "Increment: i++ increases i by 1 after each iteration."
   ]
  },
  {
   "cell_type": "markdown",
   "metadata": {},
   "source": [
    "## Output\n",
    "1\n",
    "\n",
    "2\n",
    "\n",
    "3\n",
    "\n",
    "4\n",
    "\n",
    "5\n"
   ]
  },
  {
   "cell_type": "markdown",
   "metadata": {},
   "source": [
    "### Advanced Usage: Looping Through Arrays\n",
    "You can use a for loop to iterate over elements in an array. Here’s an example:"
   ]
  },
  {
   "cell_type": "code",
   "execution_count": null,
   "metadata": {
    "vscode": {
     "languageId": "javascript"
    }
   },
   "outputs": [],
   "source": [
    "%%js \n",
    "let fruits = [\"apple\", \"banana\", \"cherry\"];\n",
    "\n",
    "for (let i = 0; i < fruits.length; i++) {\n",
    "    console.log(fruits[i]);\n",
    "}\n"
   ]
  },
  {
   "cell_type": "markdown",
   "metadata": {},
   "source": [
    "### output\n",
    "apple\n",
    "\n",
    "banana\n",
    "\n",
    "cherry\n"
   ]
  },
  {
   "cell_type": "code",
   "execution_count": null,
   "metadata": {
    "vscode": {
     "languageId": "javascript"
    }
   },
   "outputs": [
    {
     "data": {
      "application/javascript": "let sum = 0;\n\nfor (let i = 2; i <= 20; i += 2) {\n    sum += i;\n}\n\nconsole.log(\"The sum of even numbers from 1 to 20 is:\", sum);\n\n\n",
      "text/plain": [
       "<IPython.core.display.Javascript object>"
      ]
     },
     "metadata": {},
     "output_type": "display_data"
    }
   ],
   "source": [
    "%%js\n",
    "//popcorn hack 1-1\n",
    "let sum = 0;\n",
    "\n",
    "for (let i = 2; i <= 20; i += 2) {\n",
    "    sum += i;\n",
    "}\n",
    "\n",
    "console.log(\"The sum of even numbers from 1 to 20 is:\", sum);\n",
    "\n",
    "\n"
   ]
  },
  {
   "cell_type": "code",
   "execution_count": 2,
   "metadata": {
    "vscode": {
     "languageId": "javascript"
    }
   },
   "outputs": [
    {
     "data": {
      "application/javascript": "//popcorn hack 1-2\n// Initialize the counter\nlet counter = 0;\n\n// Loop while counter is less than 5\nwhile (counter < 5) { // Corrected: now it's < 5\n    console.log(\"Counter is: \" + counter); // Print the current counter value\n    \n    // Increment the counter\n    counter++; // Simplified to counter++\n}\n",
      "text/plain": [
       "<IPython.core.display.Javascript object>"
      ]
     },
     "metadata": {},
     "output_type": "display_data"
    }
   ],
   "source": [
    "%%js \n",
    "//popcorn hack 1-2\n",
    "// Initialize the counter\n",
    "let counter = 0;\n",
    "\n",
    "// Loop while counter is less than 5\n",
    "while (counter < 5) { // Corrected: now it's < 5\n",
    "    console.log(\"Counter is: \" + counter); // Print the current counter value\n",
    "    \n",
    "    // Increment the counter\n",
    "    counter++; // Simplified to counter++\n",
    "}"
   ]
  },
  {
   "cell_type": "code",
   "execution_count": null,
   "metadata": {
    "vscode": {
     "languageId": "javascript"
    }
   },
   "outputs": [
    {
     "data": {
      "application/javascript": "\n// popcorn hack 4\n\n\n// Initialize the outer loop variable\nlet outerFactor = 1;\n\n// Outer loop: runs while outerFactor is less than or equal to 10\nwhile (outerFactor <= 10) {\n    // Initialize an array to store the row\n    let row = [];\n    \n    // Inner loop: runs while innerFactor is less than or equal to 10\n    let innerFactor = 1;\n    while (innerFactor <= 10) {\n        // Calculate the product of outerFactor and innerFactor\n        let product = outerFactor * innerFactor;\n        \n        // Push the product to the row array\n        row.push(product);\n        \n        // Increment the inner loop variable\n        innerFactor++;\n    }\n    \n    // Print the row as a single line, joined by tabs\n    console.log(row.join('\\t'));\n    \n    // Increment the outer loop variable\n    outerFactor++;\n}\n",
      "text/plain": [
       "<IPython.core.display.Javascript object>"
      ]
     },
     "metadata": {},
     "output_type": "display_data"
    }
   ],
   "source": [
    "%%js\n",
    "// Initialize the outer loop variable\n",
    "let outerFactor = 1;\n",
    "\n",
    "// Outer loop: runs while outerFactor is less than or equal to 10\n",
    "while (outerFactor <= 10) {\n",
    "    // Initialize an empty string to store each row's output\n",
    "    let row = \"\";\n",
    "    \n",
    "    // Inner loop: runs while innerFactor is less than or equal to 10\n",
    "    let innerFactor = 1;\n",
    "    while (innerFactor <= 10) {\n",
    "        // Calculate the product of outerFactor and innerFactor\n",
    "        let product = outerFactor * innerFactor;\n",
    "        \n",
    "        // Append the product to the row string, with tab spacing\n",
    "        row += `${product}\\t`;\n",
    "        \n",
    "        // Increment the inner loop variable\n",
    "        innerFactor++;\n",
    "    }\n",
    "    \n",
    "    // Print the row after the inner loop completes\n",
    "    console.log(row);\n",
    "    \n",
    "    // Increment the outer loop variable\n",
    "    outerFactor++;\n",
    "}\n",
    "\n"
   ]
  }
 ],
 "metadata": {
  "kernelspec": {
   "display_name": "Python 3",
   "language": "python",
   "name": "python3"
  },
  "language_info": {
   "codemirror_mode": {
    "name": "ipython",
    "version": 3
   },
   "file_extension": ".py",
   "mimetype": "text/x-python",
   "name": "python",
   "nbconvert_exporter": "python",
   "pygments_lexer": "ipython3",
   "version": "3.10.12"
  }
 },
 "nbformat": 4,
 "nbformat_minor": 2
}
