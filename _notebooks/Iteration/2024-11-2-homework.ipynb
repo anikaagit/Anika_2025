{
 "cells": [
  {
   "cell_type": "markdown",
   "metadata": {},
   "source": [
    "## Homework Assignment: for Loop Challenge\n",
    "Task: Create a program that does the following:\n",
    "\n",
    "Initialize an array with the names of five of your favorite movies.\n",
    "Use a for loop to iterate through the array and print each movie name to the console.\n",
    "After printing all movie names, print a message indicating how many movies you listed."
   ]
  },
  {
   "cell_type": "code",
   "execution_count": null,
   "metadata": {
    "vscode": {
     "languageId": "javascript"
    }
   },
   "outputs": [
    {
     "data": {
      "application/javascript": "// Initialize the 3x3 tic-tac-toe board\nconst board = [\n    [\"X\", null, \"O\"],\n    [\"X\", \"O\", null],\n    [\"O\", null, \"X\"]\n];\n\n// Initialize counters for X and O\nlet xCount = 0;\nlet oCount = 0;\n\n// Loop through each row and cell to count the \"X\" and \"O\" moves\nfor (let row of board) {\n    for (let cell of row) {\n        if (cell === \"X\") {\n            xCount++;\n        } else if (cell === \"O\") {\n            oCount++;\n        }\n    }\n}\n\n// Determine whose turn it is\nif (xCount === oCount) {\n    console.log(\"It's X's turn.\");\n} else {\n    console.log(\"It's O's turn.\");\n}\n\n",
      "text/plain": [
       "<IPython.core.display.Javascript object>"
      ]
     },
     "metadata": {},
     "output_type": "display_data"
    }
   ],
   "source": [
    "%%js \n",
    "//This is the tic tac toe hw\n",
    "// Initialize the 3x3 tic-tac-toe board\n",
    "const board = [\n",
    "    [\"X\", null, \"O\"],\n",
    "    [\"X\", \"O\", null],\n",
    "    [\"O\", null, \"X\"]\n",
    "];\n",
    "\n",
    "// Initialize counters for X and O\n",
    "let xCount = 0;\n",
    "let oCount = 0;\n",
    "\n",
    "// Loop through each row and cell to count the \"X\" and \"O\" moves\n",
    "for (let row of board) {\n",
    "    for (let cell of row) {\n",
    "        if (cell === \"X\") {\n",
    "            xCount++;\n",
    "        } else if (cell === \"O\") {\n",
    "            oCount++;\n",
    "        }\n",
    "    }\n",
    "}\n",
    "\n",
    "// Determine whose turn it is\n",
    "if (xCount === oCount) {\n",
    "    console.log(\"It's X's turn.\");\n",
    "} else {\n",
    "    console.log(\"It's O's turn.\");\n",
    "}\n",
    "\n"
   ]
  },
  {
   "cell_type": "code",
   "execution_count": null,
   "metadata": {
    "vscode": {
     "languageId": "javascript"
    }
   },
   "outputs": [],
   "source": [
    "%%js \n"
   ]
  },
  {
   "cell_type": "markdown",
   "metadata": {},
   "source": [
    "# **Homework**\n",
    "\n",
    "Create a **3 by 3, 2D list** that represents a **tictactoe board**.\n",
    "Use **\"X\"** for X, **\"O\"** for O, and **None** for empty tiles.\n",
    "\n",
    "Ex. board = [[\"X\",\"None\",\"O\"],  \n",
    "&emsp;&emsp;&emsp;&emsp;&emsp;&emsp;&ensp;[\"X\",\"O\",\"None\"],  \n",
    "&emsp;&emsp;&emsp;&emsp;&emsp;&emsp;&ensp;[\"O\",\"None\",\"X\"]]\n",
    "\n",
    "Iterate over the board and **identify whether it is player X's or player O's turn.**\n",
    "\n",
    "**Hint**: count the number of moves(non-None). (X goes first)\n",
    "\n",
    "**Optional**: use console.error() to report an error if the board is illegal (ex. 7 \"X\"s and 2 \"O\"s)"
   ]
  }
 ],
 "metadata": {
  "kernelspec": {
   "display_name": "Python 3",
   "language": "python",
   "name": "python3"
  },
  "language_info": {
   "codemirror_mode": {
    "name": "ipython",
    "version": 3
   },
   "file_extension": ".py",
   "mimetype": "text/x-python",
   "name": "python",
   "nbconvert_exporter": "python",
   "pygments_lexer": "ipython3",
   "version": "3.10.12"
  }
 },
 "nbformat": 4,
 "nbformat_minor": 2
}
