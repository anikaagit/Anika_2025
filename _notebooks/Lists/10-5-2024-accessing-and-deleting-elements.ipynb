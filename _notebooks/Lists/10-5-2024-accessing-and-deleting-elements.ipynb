{
 "cells": [
  {
   "cell_type": "markdown",
   "metadata": {},
   "source": [
    "### Acessing and Deleting Elements\n",
    "\n",
    "## Acessing an Element\n",
    "\n",
    "There are two different types of indexing, positive indexing and negative indexing.\n",
    "\n",
    "## Positive Indexing\n",
    "\n",
    "With postive indexing, elements are referred based on their position in reference to the start of the list. Counting starts at 0, so the first item in list would be position 0.\n",
    "\n",
    "Ex: let list = [1, 2, 3, 4, 5];\n",
    "\n",
    "\n",
    "\n",
    "\n",
    "\n",
    "\n"
   ]
  },
  {
   "cell_type": "code",
   "execution_count": 2,
   "metadata": {
    "vscode": {
     "languageId": "html"
    }
   },
   "outputs": [
    {
     "data": {
      "text/html": [
       "\n",
       "<!-- HTML output div -->\n",
       "<div id=\"forConventional\"></div>\n",
       "\n",
       "<script>\n",
       "    var names = ['1', '2', '3', '4'];\n",
       "    document.createElement[0];\n",
       "\n",
       "    // Conventional for loop with index used to access elements\n",
       "    for (let i = 0; i < names.length; i++) {\n",
       "\n",
       "        //Create a p tag for each name and add it to the forConventional div\n",
       "        const p = document.createElement('p');\n",
       "        p.innerHTML = names[i];\n",
       "        document.getElementById('forConventional').appendChild(p);\n",
       "\n",
       "    }\n",
       "</script>\n"
      ],
      "text/plain": [
       "<IPython.core.display.HTML object>"
      ]
     },
     "metadata": {},
     "output_type": "display_data"
    }
   ],
   "source": [
    "%%html\n",
    "\n",
    "<!-- HTML output div -->\n",
    "<div id=\"forConventional\"></div>\n",
    "\n",
    "<script>\n",
    "    var names = ['1', '2', '3', '4'];\n",
    "    document.createElement[0];\n",
    "\n",
    "    // Conventional for loop with index used to access elements\n",
    "    for (let i = 0; i < names.length; i++) {\n",
    "\n",
    "        //Create a p tag for each name and add it to the forConventional div\n",
    "        const p = document.createElement('p');\n",
    "        p.innerHTML = names[i];\n",
    "        document.getElementById('forConventional').appendChild(p);\n",
    "\n",
    "    }\n",
    "</script>"
   ]
  },
  {
   "cell_type": "code",
   "execution_count": 1,
   "metadata": {
    "vscode": {
     "languageId": "javascript"
    }
   },
   "outputs": [
    {
     "data": {
      "application/javascript": "\n\nlet number_list = [1, 2, 3, 4, 5];\n",
      "text/plain": [
       "<IPython.core.display.Javascript object>"
      ]
     },
     "metadata": {},
     "output_type": "display_data"
    }
   ],
   "source": [
    "%%js\n",
    "\n",
    "\n",
    "let number_list = [1, 2, 3, 4, 5];\n"
   ]
  },
  {
   "cell_type": "markdown",
   "metadata": {},
   "source": [
    "## Negative Indexing\n",
    "\n",
    "Negative indexing is similar to positive indexing except you count backwards from the end of the list.\n",
    "\n"
   ]
  },
  {
   "cell_type": "code",
   "execution_count": null,
   "metadata": {
    "vscode": {
     "languageId": "javascript"
    }
   },
   "outputs": [
    {
     "data": {
      "application/javascript": "let desserts = ['cake','ice cream','cookies','cupcake', 'cakepop', 'pie']\nconsole.log(desserts.join(\",\"))\n",
      "text/plain": [
       "<IPython.core.display.Javascript object>"
      ]
     },
     "metadata": {},
     "output_type": "display_data"
    }
   ],
   "source": [
    "%%js \n",
    "//popcorn hack 3\n",
    "let desserts = ['cake','ice cream','cookies','cupcake', 'cakepop', 'pie']\n",
    "console.log(desserts.join(\",\"))"
   ]
  },
  {
   "cell_type": "code",
   "execution_count": 2,
   "metadata": {
    "vscode": {
     "languageId": "javascript"
    }
   },
   "outputs": [
    {
     "data": {
      "application/javascript": "//popcorn hack 1\nlet aList = [1,2,3,4,5]; // Initialize an empty list\n\ndo {\n    // Prompt the user for input\n    let userInput = prompt(\"Enter an item you want (or just press Enter to quit):\");\n    \n    // If the input is not empty, add it to the list\n    if (userInput !== \"\") {\n        aList.push(userInput);\n    }\n} while (userInput !== \"\"); // Repeat until the user presses Enter without typing anything\n\n// Display the final list in the console\nconsole.log(\"Here is your list:\", aList);\n",
      "text/plain": [
       "<IPython.core.display.Javascript object>"
      ]
     },
     "metadata": {},
     "output_type": "display_data"
    }
   ],
   "source": [
    "%%js \n",
    "//popcorn hack 1\n",
    "let aList = [1,2,3,4,5]; // Initialize an empty list\n",
    "\n",
    "do {\n",
    "    // Prompt the user for input\n",
    "    let userInput = prompt(\"Enter an item you want (or just press Enter to quit):\");\n",
    "    \n",
    "    // If the input is not empty, add it to the list\n",
    "    if (userInput !== \"\") {\n",
    "        aList.push(userInput);\n",
    "    }\n",
    "} while (userInput !== \"\"); // Repeat until the user presses Enter without typing anything\n",
    "\n",
    "// Display the final list in the console\n",
    "console.log(\"Here is your list:\", aList);\n"
   ]
  },
  {
   "cell_type": "code",
   "execution_count": null,
   "metadata": {
    "vscode": {
     "languageId": "javascript"
    }
   },
   "outputs": [],
   "source": [
    "%%js \n",
    "// Create a list of numbers (Popcorn hack 2)\n",
    "let my_list_2 = [3, 7, 12, 25, 36, 48];\n",
    "\n",
    "// Create a constant to store the length of the list\n",
    "const const_length = my_list_2.length;\n",
    "\n",
    "// Print the length to the console\n",
    "console.log(\"The length of my_list_2 is:\", const_length);\n"
   ]
  }
 ],
 "metadata": {
  "kernelspec": {
   "display_name": "Python 3",
   "language": "python",
   "name": "python3"
  },
  "language_info": {
   "codemirror_mode": {
    "name": "ipython",
    "version": 3
   },
   "file_extension": ".py",
   "mimetype": "text/x-python",
   "name": "python",
   "nbconvert_exporter": "python",
   "pygments_lexer": "ipython3",
   "version": "3.10.12"
  }
 },
 "nbformat": 4,
 "nbformat_minor": 2
}
